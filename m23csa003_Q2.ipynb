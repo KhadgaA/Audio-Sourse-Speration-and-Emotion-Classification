{
 "cells": [
  {
   "cell_type": "markdown",
   "metadata": {},
   "source": [
    "# Q2"
   ]
  },
  {
   "cell_type": "markdown",
   "metadata": {},
   "source": [
    "## 1"
   ]
  },
  {
   "cell_type": "code",
   "execution_count": 11,
   "metadata": {},
   "outputs": [],
   "source": [
    "\n",
    "\n",
    "import math\n",
    "import torch\n",
    "import torch.nn.functional as F\n",
    "\n",
    "\n",
    "def ctc_loss(log_probs : torch.Tensor, targets : torch.Tensor, input_lengths : torch.Tensor, target_lengths : torch.Tensor, blank : int = 0, reduction : str = 'mean', finfo_min_fp32: float = torch.finfo(torch.float32).min, finfo_min_fp16: float = torch.finfo(torch.float16).min, alignment : bool = False):\n",
    "\tinput_time_size, batch_size = log_probs.shape[:2]\n",
    "\tB = torch.arange(batch_size, device = input_lengths.device)\n",
    "\t\n",
    "\t_targets = torch.cat([targets, targets[:, :1]], dim = -1)\n",
    "\t_targets = torch.stack([torch.full_like(_targets, blank), _targets], dim = -1).flatten(start_dim = -2)\n",
    "\t\n",
    "\tdiff_labels = torch.cat([torch.as_tensor([[False, False]], device = targets.device).expand(batch_size, -1), _targets[:, 2:] != _targets[:, :-2]], dim = 1)\n",
    "\t\n",
    "\t\n",
    "\tzero_padding, zero = 2, torch.tensor(finfo_min_fp16 if log_probs.dtype == torch.float16 else finfo_min_fp32, device = log_probs.device, dtype = log_probs.dtype)\n",
    "\tlog_probs_ = log_probs.gather(-1, _targets.expand(input_time_size, -1, -1))\n",
    "\tlog_alpha = torch.full((input_time_size, batch_size, zero_padding + _targets.shape[-1]), zero, device = log_probs.device, dtype = log_probs.dtype)\n",
    "\tlog_alpha[0, :, zero_padding + 0] = log_probs[0, :, blank]\n",
    "\tlog_alpha[0, :, zero_padding + 1] = log_probs[0, B, _targets[:, 1]]\n",
    "\tfor t in range(1, input_time_size):\n",
    "\t\tlog_alpha[t, :, 2:] = log_probs_[t] + logadd(log_alpha[t - 1, :, 2:], log_alpha[t - 1, :, 1:-1], torch.where(diff_labels, log_alpha[t - 1, :, :-2], zero))\n",
    "\n",
    "\tl1l2 = log_alpha[input_lengths - 1, B].gather(-1, torch.stack([zero_padding + target_lengths * 2 - 1, zero_padding + target_lengths * 2], dim = -1)) \n",
    "\tloss = -torch.logsumexp(l1l2, dim = -1)\n",
    "\tif reduction == 'mean':\n",
    "\t\tloss = (loss/target_lengths).mean()\n",
    "\treturn loss\n",
    "\n",
    "\t\n",
    "\n",
    "def ctc_alignment(log_probs : torch.Tensor, targets : torch.Tensor, input_lengths : torch.Tensor, target_lengths : torch.Tensor, blank: int = 0, finfo_min_fp32: float = torch.finfo(torch.float32).min, finfo_min_fp16: float = torch.finfo(torch.float16).min):\n",
    "\tinput_time_size, batch_size = log_probs.shape[:2]\n",
    "\tB = torch.arange(batch_size, device = input_lengths.device)\n",
    "\t\n",
    "\t_targets = torch.cat([\n",
    "\t\ttorch.stack([torch.full_like(targets, blank), targets], dim = -1).flatten(start_dim = -2),\n",
    "\t\ttorch.full_like(targets[:, :1], blank)\n",
    "\t], dim = -1)\n",
    "\tdiff_labels = torch.cat([\n",
    "\t\ttorch.as_tensor([[False, False]], device = targets.device).expand(batch_size, -1),\n",
    "\t\t_targets[:, 2:] != _targets[:, :-2]\n",
    "\t], dim = 1)\n",
    "\n",
    "\tzero_padding, zero = 2, torch.tensor(finfo_min_fp16 if log_probs.dtype == torch.float16 else finfo_min_fp32, device = log_probs.device, dtype = log_probs.dtype)\n",
    "\tpadded_t = zero_padding + _targets.shape[-1]\n",
    "\tlog_alpha = torch.full((batch_size, padded_t), zero, device = log_probs.device, dtype = log_probs.dtype)\n",
    "\tlog_alpha[:, zero_padding + 0] = log_probs[0, :, blank]\n",
    "\tlog_alpha[:, zero_padding + 1] = log_probs[0, B, _targets[:, 1]]\n",
    "\n",
    "\tpackmask = 0b11\n",
    "\tpacknibbles = 4 # packnibbles = 1\n",
    "\tbackpointers_shape = [len(log_probs), batch_size, int(math.ceil(padded_t / packnibbles))]\n",
    "\tbackpointers = torch.zeros(backpointers_shape, device = log_probs.device, dtype = torch.uint8)\n",
    "\tbackpointer = torch.zeros(backpointers_shape[1:], device = log_probs.device, dtype = torch.uint8)\n",
    "\tpackshift = torch.tensor([[[6, 4, 2, 0]]], device = log_probs.device, dtype = torch.uint8)\n",
    "\n",
    "\tfor t in range(1, input_time_size):\n",
    "\t\tprev = torch.stack([log_alpha[:, 2:], log_alpha[:, 1:-1], torch.where(diff_labels, log_alpha[:, :-2], zero)])\n",
    "\t\tlog_alpha[:, zero_padding:] = log_probs[t].gather(-1, _targets) + prev.logsumexp(dim = 0)\n",
    "\t\tbackpointer[:, zero_padding:(zero_padding + prev.shape[-1] )] = prev.argmax(dim = 0)\n",
    "\t\ttorch.sum(backpointer.view(len(backpointer), -1, packnibbles) << packshift, dim = -1, out = backpointers[t]) \n",
    "\n",
    "\tl1l2 = log_alpha.gather(-1, torch.stack([zero_padding + target_lengths * 2 - 1, zero_padding + target_lengths * 2], dim = -1))\n",
    "\n",
    "\tpath = torch.zeros(input_time_size, batch_size, device = log_alpha.device, dtype = torch.long)\n",
    "\tpath[input_lengths - 1, B] = zero_padding + target_lengths * 2 - 1 + l1l2.argmax(dim = -1)\n",
    "\n",
    "\tfor t in range(input_time_size - 1, 0, -1):\n",
    "\t\tindices = path[t]\n",
    "\t\tbackpointer = (backpointers[t].unsqueeze(-1) >> packshift).view_as(backpointer) \n",
    "\t\tpath[t - 1] += indices - backpointer.gather(-1, indices.unsqueeze(-1)).squeeze(-1).bitwise_and_(packmask)\n",
    "\t\n",
    "\treturn torch.zeros_like(_targets, dtype = torch.int64).scatter_(-1, (path.t() - zero_padding).clamp(min = 0), torch.arange(input_time_size, device = log_alpha.device).expand(batch_size, -1))[:, 1::2]\n",
    "\n",
    "def ctc_alignment_targets(log_probs, targets, input_lengths, target_lengths, blank = 0, ctc_loss = F.ctc_loss, retain_graph = True):\n",
    "\tloss = ctc_loss(log_probs, targets, input_lengths, target_lengths, blank = blank, reduction = 'sum')\n",
    "\tprobs = log_probs.exp()\n",
    "\tgrad_log_probs, = torch.autograd.grad(loss, log_probs, retain_graph = retain_graph)\n",
    "\tgrad_logits = grad_log_probs - probs * grad_log_probs.sum(dim = -1, keepdim = True)\n",
    "\ttemporal_mask = (torch.arange(len(log_probs), device = input_lengths.device, dtype = input_lengths.dtype).unsqueeze(1) < input_lengths.unsqueeze(0)).unsqueeze(-1)\n",
    "\treturn (probs * temporal_mask - grad_logits).detach()\n",
    "\n",
    "def logadd(x0, x1, x2):\n",
    "\treturn torch.logsumexp(torch.stack([x0, x1, x2]), dim = 0)\n",
    "\n",
    "\n",
    "class LogsumexpFunction(torch.autograd.function.Function):\n",
    "\t@staticmethod\n",
    "\tdef forward(self, x0, x1, x2):\n",
    "\t\tm = torch.max(torch.max(x0, x1), x2)\n",
    "\t\tm = m.masked_fill_(torch.isinf(m), 0)\n",
    "\t\te0 = (x0 - m).exp_()\n",
    "\t\te1 = (x1 - m).exp_()\n",
    "\t\te2 = (x2 - m).exp_()\n",
    "\t\te = (e0 + e1).add_(e2).clamp_(min = 1e-16)\n",
    "\t\tself.save_for_backward(e0, e1, e2, e)\n",
    "\t\treturn e.log_().add_(m)\n",
    "\n",
    "\t@staticmethod\n",
    "\tdef backward(self, grad_output):\n",
    "\t\te0, e1, e2, e = self.saved_tensors\n",
    "\t\tg = grad_output / e\n",
    "\t\treturn g * e0, g * e1, g * e2\n"
   ]
  },
  {
   "cell_type": "markdown",
   "metadata": {},
   "source": [
    "# 2"
   ]
  },
  {
   "cell_type": "code",
   "execution_count": 12,
   "metadata": {},
   "outputs": [],
   "source": [
    "log_probs = torch.randn(50, 16, 20).log_softmax(2)\n",
    "targets = torch.randint(1, 20, (16, 30), dtype=torch.long)\n",
    "input_lengths = torch.full((16,), 50, dtype=torch.long)\n",
    "target_lengths = torch.randint(10,30,(16,), dtype=torch.long)\n",
    "blank = 0"
   ]
  },
  {
   "cell_type": "code",
   "execution_count": 13,
   "metadata": {},
   "outputs": [
    {
     "name": "stdout",
     "output_type": "stream",
     "text": [
      "tensor(6.0781)\n"
     ]
    }
   ],
   "source": [
    "loss = F.ctc_loss(log_probs, targets, input_lengths, target_lengths,blank=0,reduction='mean')\n",
    "print(loss)"
   ]
  },
  {
   "cell_type": "code",
   "execution_count": 14,
   "metadata": {},
   "outputs": [
    {
     "name": "stdout",
     "output_type": "stream",
     "text": [
      "tensor(6.0781)\n"
     ]
    }
   ],
   "source": [
    "custom_ctc = ctc_loss(log_probs, targets, input_lengths, target_lengths, blank = 0, reduction = 'mean')\n",
    "print(custom_ctc)"
   ]
  },
  {
   "cell_type": "code",
   "execution_count": null,
   "metadata": {},
   "outputs": [],
   "source": []
  },
  {
   "cell_type": "code",
   "execution_count": null,
   "metadata": {},
   "outputs": [],
   "source": []
  }
 ],
 "metadata": {
  "kernelspec": {
   "display_name": "gpu",
   "language": "python",
   "name": "python3"
  },
  "language_info": {
   "codemirror_mode": {
    "name": "ipython",
    "version": 3
   },
   "file_extension": ".py",
   "mimetype": "text/x-python",
   "name": "python",
   "nbconvert_exporter": "python",
   "pygments_lexer": "ipython3",
   "version": "3.9.16"
  }
 },
 "nbformat": 4,
 "nbformat_minor": 2
}
